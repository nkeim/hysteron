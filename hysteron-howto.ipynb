{
 "cells": [
  {
   "cell_type": "markdown",
   "metadata": {},
   "source": [
    "# Using the hysteron simulation\n",
    "\n",
    "**Nathan Keim, July 7, 2020**\n",
    "\n",
    "keim@psu.edu\n",
    "\n",
    "-----------"
   ]
  },
  {
   "cell_type": "code",
   "execution_count": 1,
   "metadata": {},
   "outputs": [],
   "source": [
    "import numba\n",
    "import numpy as np\n",
    "from matplotlib import pyplot as pl\n",
    "import pandas as pd\n",
    "\n",
    "from hysteron import *"
   ]
  },
  {
   "cell_type": "markdown",
   "metadata": {},
   "source": [
    "# Basic usage\n",
    "\n",
    "Here's a period-2 system found via a Monte Carlo search."
   ]
  },
  {
   "cell_type": "code",
   "execution_count": 2,
   "metadata": {},
   "outputs": [],
   "source": [
    "((interactions, Hon, Hoff), amp\n",
    " ) =((np.array([[ 0.  , -0.41,  0.  ,  0.32],\n",
    "         [-0.41,  0.  ,  0.15,  0.82],\n",
    "         [ 0.  ,  0.15,  0.  , -0.56],\n",
    "         [ 0.32,  0.82, -0.56,  0.  ]]),\n",
    "  np.array([ 0.99,  1.09, -0.07, -0.37]),\n",
    "  np.array([-0.91, -0.81, -0.89, -0.37])),\n",
    " 0.9249999999999999)"
   ]
  },
  {
   "cell_type": "code",
   "execution_count": 3,
   "metadata": {},
   "outputs": [],
   "source": [
    "N = len(Hon)  # Number of hysterons"
   ]
  },
  {
   "cell_type": "markdown",
   "metadata": {},
   "source": [
    "To run with a fixed amplitude, use `run_event_extended()`."
   ]
  },
  {
   "cell_type": "code",
   "execution_count": 5,
   "metadata": {},
   "outputs": [
    {
     "data": {
      "text/plain": [
       "2"
      ]
     },
     "execution_count": 5,
     "metadata": {},
     "output_type": "execute_result"
    }
   ],
   "source": [
    "periodicity = run_event_extended(np.ones(N) * -1, interactions, \n",
    "                   Hon, Hoff, amp)\n",
    "periodicity"
   ]
  },
  {
   "cell_type": "markdown",
   "metadata": {},
   "source": [
    "You can also use `amplitude_sweep()` to find the smallest amplitude for period > 1."
   ]
  },
  {
   "cell_type": "code",
   "execution_count": 6,
   "metadata": {},
   "outputs": [
    {
     "data": {
      "text/plain": [
       "(2, 0.9249999999999999)"
      ]
     },
     "execution_count": 6,
     "metadata": {},
     "output_type": "execute_result"
    }
   ],
   "source": [
    "period, H_0 = amplitude_sweep(interactions, Hon, Hoff,\n",
    "                              compute_possible_states(N))\n",
    "period, H_0"
   ]
  },
  {
   "cell_type": "markdown",
   "metadata": {},
   "source": [
    "# Obtaining kinematics\n",
    "\n",
    "You can obtain the state of the system and the effective field value at each hysteron, just before each hysteron is flipped."
   ]
  },
  {
   "cell_type": "code",
   "execution_count": 7,
   "metadata": {},
   "outputs": [],
   "source": [
    "rec = Recorder(N)\n",
    "periodicity = run_event_extended(np.ones(N) * -1, interactions, \n",
    "                   Hon, Hoff, amp, recorder=rec)"
   ]
  },
  {
   "cell_type": "code",
   "execution_count": 8,
   "metadata": {},
   "outputs": [
    {
     "data": {
      "text/plain": [
       "array([[-0.48 , -1.   , -1.   , -1.   , -1.   , -0.39 , -1.04 , -0.07 ,\n",
       "        -1.06 ],\n",
       "       [ 0.   , -1.   , -1.   ,  1.   , -1.   ,  0.09 , -0.26 ,  0.41 ,\n",
       "        -1.7  ],\n",
       "       [ 0.9  , -1.   , -1.   ,  1.   , -1.   ,  0.99 ,  0.64 ,  1.31 ,\n",
       "        -0.8  ],\n",
       "       [ 0.9  ,  1.   , -1.   ,  1.   , -1.   ,  0.99 , -0.18 ,  1.31 ,\n",
       "        -0.16 ],\n",
       "       [ 0.9  ,  1.   , -1.   ,  1.   ,  1.   ,  1.63 ,  1.46 ,  0.19 ,\n",
       "        -0.16 ],\n",
       "       [ 0.925,  1.   ,  1.   ,  1.   ,  1.   ,  0.835,  1.485,  0.515,\n",
       "         1.505],\n",
       "       [-0.48 ,  1.   ,  1.   ,  1.   ,  1.   , -0.57 ,  0.08 , -0.89 ,\n",
       "         0.1  ],\n",
       "       [-0.82 ,  1.   ,  1.   , -1.   ,  1.   , -0.91 , -0.56 , -1.23 ,\n",
       "         0.88 ],\n",
       "       [-0.925, -1.   ,  1.   , -1.   ,  1.   , -1.015,  0.155, -1.335,\n",
       "         0.135],\n",
       "       [ 0.   , -1.   ,  1.   , -1.   ,  1.   , -0.09 ,  1.08 , -0.41 ,\n",
       "         1.06 ],\n",
       "       [ 0.34 , -1.   ,  1.   , -1.   ,  1.   ,  0.25 ,  1.42 , -0.07 ,\n",
       "         1.4  ],\n",
       "       [ 0.925, -1.   ,  1.   ,  1.   ,  1.   ,  0.835,  2.305,  0.515,\n",
       "         0.865],\n",
       "       [-0.31 , -1.   ,  1.   ,  1.   ,  1.   , -0.4  ,  1.07 , -0.72 ,\n",
       "        -0.37 ],\n",
       "       [-0.55 , -1.   ,  1.   ,  1.   , -1.   , -1.28 , -0.81 ,  0.16 ,\n",
       "        -0.61 ],\n",
       "       [-0.925, -1.   , -1.   ,  1.   , -1.   , -0.835, -1.185, -0.515,\n",
       "        -2.625],\n",
       "       [ 0.   , -1.   , -1.   ,  1.   , -1.   ,  0.09 , -0.26 ,  0.41 ,\n",
       "        -1.7  ]])"
      ]
     },
     "execution_count": 8,
     "metadata": {},
     "output_type": "execute_result"
    }
   ],
   "source": [
    "# As an array. First column is H value, followed by hysteron states,\n",
    "# followed by effective field at each hysteron.\n",
    "rec.data"
   ]
  },
  {
   "cell_type": "markdown",
   "metadata": {},
   "source": [
    "# Performance\n",
    "\n",
    "`numba` can be disabled by commenting out each `@numba...` line in `hysteron_record.py`. I do not recommend doing that."
   ]
  },
  {
   "cell_type": "code",
   "execution_count": 9,
   "metadata": {},
   "outputs": [],
   "source": [
    "ps = compute_possible_states(N)"
   ]
  },
  {
   "cell_type": "code",
   "execution_count": 10,
   "metadata": {},
   "outputs": [
    {
     "name": "stdout",
     "output_type": "stream",
     "text": [
      "19.3 µs ± 1.18 µs per loop (mean ± std. dev. of 7 runs, 10000 loops each)\n"
     ]
    }
   ],
   "source": [
    "%%timeit\n",
    "run_event_extended(np.ones(N) * -1, interactions, Hon, Hoff, amp)"
   ]
  },
  {
   "cell_type": "code",
   "execution_count": 11,
   "metadata": {},
   "outputs": [
    {
     "name": "stdout",
     "output_type": "stream",
     "text": [
      "119 µs ± 3.41 µs per loop (mean ± std. dev. of 7 runs, 10000 loops each)\n"
     ]
    }
   ],
   "source": [
    "%%timeit\n",
    "amplitude_sweep(interactions, Hon, Hoff, ps)                              "
   ]
  },
  {
   "cell_type": "code",
   "execution_count": null,
   "metadata": {},
   "outputs": [],
   "source": []
  }
 ],
 "metadata": {
  "kernelspec": {
   "display_name": "Python 3",
   "language": "python",
   "name": "python3"
  },
  "language_info": {
   "codemirror_mode": {
    "name": "ipython",
    "version": 3
   },
   "file_extension": ".py",
   "mimetype": "text/x-python",
   "name": "python",
   "nbconvert_exporter": "python",
   "pygments_lexer": "ipython3",
   "version": "3.7.6"
  }
 },
 "nbformat": 4,
 "nbformat_minor": 4
}
